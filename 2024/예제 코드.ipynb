{
  "cells": [
    {
      "cell_type": "markdown",
      "metadata": {
        "id": "OVuOyhGoURF0"
      },
      "source": [
        "# 합성함수 (Composition Function)\n",
        "\n",
        "데이터가 어떻게 흘러가는지에 대해서 복합적인 동작과 함께 결합\n",
        "\n",
        "데이터 처리 파이프라인 (예: 데이터 정규화 → 필터링 → 정렬)"
      ]
    },
    {
      "cell_type": "code",
      "execution_count": null,
      "metadata": {
        "id": "4Acf2ynWUElN"
      },
      "outputs": [],
      "source": [
        "def f(x):\n",
        "    return x + 2\n",
        "\n",
        "def g(x):\n",
        "    return x * 3"
      ]
    },
    {
      "cell_type": "code",
      "execution_count": null,
      "metadata": {
        "id": "v34zudkDUQth"
      },
      "outputs": [],
      "source": [
        "# 합성 함수 h(x) = g(f(x))\n",
        "def h(x):\n",
        "    return g(f(x))"
      ]
    },
    {
      "cell_type": "code",
      "execution_count": null,
      "metadata": {
        "id": "PLxq95_dVVMA"
      },
      "outputs": [],
      "source": [
        "x = 10"
      ]
    },
    {
      "cell_type": "code",
      "execution_count": null,
      "metadata": {
        "colab": {
          "base_uri": "https://localhost:8080/"
        },
        "id": "MFa3EVnpUYle",
        "outputId": "1be743ec-4cf7-443a-8590-098cbd25adc2"
      },
      "outputs": [
        {
          "name": "stdout",
          "output_type": "stream",
          "text": [
            "f(10) = 12\n",
            "g(10) = 30\n",
            "h(10) = g(f(10)) = 36\n"
          ]
        }
      ],
      "source": [
        "print(f\"f({x}) = {f(x)}\")\n",
        "print(f\"g({x}) = {g(x)}\")\n",
        "print(f\"h({x}) = g(f({x})) = {h(x)}\")"
      ]
    },
    {
      "cell_type": "markdown",
      "metadata": {
        "id": "pfSXIkEtUr-w"
      },
      "source": [
        "Advanced version"
      ]
    },
    {
      "cell_type": "code",
      "execution_count": null,
      "metadata": {
        "id": "gJQlkPCEUvMw"
      },
      "outputs": [],
      "source": [
        "from functools import reduce\n",
        "\n",
        "# *functions을 이용해서 가변인자 받기,\n",
        "# *reversed(functions) 합성함수 순서 저장하기\n",
        "def compose(*functions):\n",
        "    return lambda x: reduce(lambda acc, func: func(acc), reversed(functions), x)"
      ]
    },
    {
      "cell_type": "code",
      "execution_count": null,
      "metadata": {
        "id": "TZz-AAv1U1qZ"
      },
      "outputs": [],
      "source": [
        "def h(x):\n",
        "    return x ** 2"
      ]
    },
    {
      "cell_type": "code",
      "execution_count": null,
      "metadata": {
        "colab": {
          "base_uri": "https://localhost:8080/"
        },
        "id": "p46wf2JyU7ba",
        "outputId": "0fffffd8-5fb9-4762-a35f-66345b535469"
      },
      "outputs": [
        {
          "data": {
            "text/plain": [
              "<function __main__.compose.<locals>.<lambda>(x)>"
            ]
          },
          "execution_count": 27,
          "metadata": {},
          "output_type": "execute_result"
        }
      ],
      "source": [
        "composed1 = compose(f, g, h) # my_pipeline1\n",
        "composed1"
      ]
    },
    {
      "cell_type": "code",
      "execution_count": null,
      "metadata": {
        "colab": {
          "base_uri": "https://localhost:8080/"
        },
        "id": "ofCO_D2pWDld",
        "outputId": "3f92d357-915e-49e9-a931-4bf161b8f378"
      },
      "outputs": [
        {
          "data": {
            "text/plain": [
              "77"
            ]
          },
          "execution_count": 28,
          "metadata": {},
          "output_type": "execute_result"
        }
      ],
      "source": [
        "x = 5\n",
        "result = composed1(x)\n",
        "result"
      ]
    },
    {
      "cell_type": "markdown",
      "metadata": {
        "id": "DOkCD_5DUlAw"
      },
      "source": [
        "# 데코레이터 패턴(Decorator pattern)\n",
        "\n",
        "함수의 동작을 확장하는데 사용\n",
        "\n",
        "웹 애플리케이션의 요청 로깅, 사용자 인증, 캐싱"
      ]
    },
    {
      "cell_type": "code",
      "execution_count": null,
      "metadata": {
        "id": "F6JLhkZUVGF0"
      },
      "outputs": [],
      "source": [
        "def decorator(func):\n",
        "    def wrapper(*args, **kwargs):\n",
        "        print(\"Function is about to be called\")\n",
        "        result = func(*args, **kwargs)\n",
        "        print(\"Function has been called\")\n",
        "        return result\n",
        "    return wrapper"
      ]
    },
    {
      "cell_type": "code",
      "execution_count": null,
      "metadata": {
        "id": "c2A_froRVJmU"
      },
      "outputs": [],
      "source": [
        "@decorator\n",
        "def say_hello(name):\n",
        "    print(f\"Hello, {name}!\")"
      ]
    },
    {
      "cell_type": "code",
      "execution_count": null,
      "metadata": {
        "colab": {
          "base_uri": "https://localhost:8080/"
        },
        "id": "9ba_5Sk8VMSb",
        "outputId": "e015bc97-a607-45b3-cbcf-1eed9ffd8004"
      },
      "outputs": [
        {
          "name": "stdout",
          "output_type": "stream",
          "text": [
            "Function is about to be called\n",
            "Hello, Sejin!\n",
            "Function has been called\n"
          ]
        }
      ],
      "source": [
        "say_hello(\"Sejin\")"
      ]
    },
    {
      "cell_type": "markdown",
      "metadata": {
        "id": "UYSVyqiDVXJV"
      },
      "source": [
        "advanced version"
      ]
    },
    {
      "cell_type": "code",
      "execution_count": null,
      "metadata": {
        "id": "DNNoxsB4VpVP"
      },
      "outputs": [],
      "source": [
        "import time"
      ]
    },
    {
      "cell_type": "code",
      "execution_count": null,
      "metadata": {
        "id": "ak5zJlNZVoRG"
      },
      "outputs": [],
      "source": [
        "def timing_decorator(func):\n",
        "    def wrapper(*args, **kwargs):\n",
        "        start_time = time.time()\n",
        "        result = func(*args, **kwargs)\n",
        "        end_time = time.time()\n",
        "        elapsed_time = end_time - start_time\n",
        "        print(f\"함수  '{func.__name__}' 의 실행시간은 {elapsed_time:.4f} 초가 걸렸습니다.\")\n",
        "        return result\n",
        "    return wrapper"
      ]
    },
    {
      "cell_type": "code",
      "execution_count": null,
      "metadata": {
        "id": "XqSV-MIdVxpN"
      },
      "outputs": [],
      "source": [
        "@timing_decorator\n",
        "def example_function(n):\n",
        "    total = 0\n",
        "    for i in range(n):\n",
        "        total += i ** 2  # 간단한 계산\n",
        "    return total"
      ]
    },
    {
      "cell_type": "code",
      "execution_count": null,
      "metadata": {
        "colab": {
          "base_uri": "https://localhost:8080/"
        },
        "id": "YpGlBFn9V2Q2",
        "outputId": "0af7091e-d692-41aa-95d2-8198c4f21d34"
      },
      "outputs": [
        {
          "name": "stdout",
          "output_type": "stream",
          "text": [
            "함수  'example_function' 의 실행시간은 0.4246 초가 걸렸습니다.\n",
            "함수  'example_function' 의 실행시간은 0.3574 초가 걸렸습니다.\n",
            "함수  'example_function' 의 실행시간은 0.3334 초가 걸렸습니다.\n",
            "함수  'example_function' 의 실행시간은 0.3491 초가 걸렸습니다.\n",
            "함수  'example_function' 의 실행시간은 0.3447 초가 걸렸습니다.\n",
            "함수  'example_function' 의 실행시간은 0.3396 초가 걸렸습니다.\n",
            "함수  'example_function' 의 실행시간은 0.3347 초가 걸렸습니다.\n",
            "함수  'example_function' 의 실행시간은 0.3508 초가 걸렸습니다.\n",
            "345 ms ± 8.55 ms per loop (mean ± std. dev. of 7 runs, 1 loop each)\n"
          ]
        }
      ],
      "source": [
        "%%timeit\n",
        "result = example_function(10**6)"
      ]
    }
  ],
  "metadata": {
    "colab": {
      "provenance": []
    },
    "kernelspec": {
      "display_name": "Python 3",
      "name": "python3"
    },
    "language_info": {
      "name": "python"
    }
  },
  "nbformat": 4,
  "nbformat_minor": 0
}
